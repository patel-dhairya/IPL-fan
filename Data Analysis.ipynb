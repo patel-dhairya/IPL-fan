{
 "cells": [
  {
   "cell_type": "code",
   "execution_count": 1,
   "id": "38a68355",
   "metadata": {},
   "outputs": [],
   "source": [
    "import pandas as pd\n",
    "import matplotlib.pyplot as plt\n",
    "import seaborn as sns\n",
    "import sqlite3"
   ]
  },
  {
   "cell_type": "markdown",
   "id": "e85b0aa8",
   "metadata": {},
   "source": [
    "## Data Analysis Question-1 "
   ]
  },
  {
   "cell_type": "markdown",
   "id": "11ca7bd3",
   "metadata": {},
   "source": [
    "Are player positions structured the same across all teams? What I would like to know is whether all teams have a similar distribution of players in different roles, such as batsmen, bowlers, wicketkeepers, and so on.\n",
    "#### Answer - 1"
   ]
  },
  {
   "cell_type": "code",
   "execution_count": 2,
   "id": "bb1aa049",
   "metadata": {},
   "outputs": [],
   "source": [
    "# Load the dataset\n",
    "player_data = pd.read_csv(\"database/player_data.csv\")"
   ]
  },
  {
   "cell_type": "code",
   "execution_count": 3,
   "id": "399b9168",
   "metadata": {},
   "outputs": [
    {
     "data": {
      "text/html": [
       "<div>\n",
       "<style scoped>\n",
       "    .dataframe tbody tr th:only-of-type {\n",
       "        vertical-align: middle;\n",
       "    }\n",
       "\n",
       "    .dataframe tbody tr th {\n",
       "        vertical-align: top;\n",
       "    }\n",
       "\n",
       "    .dataframe thead th {\n",
       "        text-align: right;\n",
       "    }\n",
       "</style>\n",
       "<table border=\"1\" class=\"dataframe\">\n",
       "  <thead>\n",
       "    <tr style=\"text-align: right;\">\n",
       "      <th>Role</th>\n",
       "      <th>Allrounder</th>\n",
       "      <th>Batter</th>\n",
       "      <th>Batting Allrounder</th>\n",
       "      <th>Bowler</th>\n",
       "      <th>Bowling Allrounder</th>\n",
       "      <th>Middle order Batter</th>\n",
       "      <th>Opening Batter</th>\n",
       "      <th>Top order Batter</th>\n",
       "      <th>Wicketkeeper Batter</th>\n",
       "      <th>All</th>\n",
       "    </tr>\n",
       "    <tr>\n",
       "      <th>Team</th>\n",
       "      <th></th>\n",
       "      <th></th>\n",
       "      <th></th>\n",
       "      <th></th>\n",
       "      <th></th>\n",
       "      <th></th>\n",
       "      <th></th>\n",
       "      <th></th>\n",
       "      <th></th>\n",
       "      <th></th>\n",
       "    </tr>\n",
       "  </thead>\n",
       "  <tbody>\n",
       "    <tr>\n",
       "      <th>CSK</th>\n",
       "      <td>5</td>\n",
       "      <td>2</td>\n",
       "      <td>1</td>\n",
       "      <td>10</td>\n",
       "      <td>4</td>\n",
       "      <td>1</td>\n",
       "      <td>0</td>\n",
       "      <td>2</td>\n",
       "      <td>2</td>\n",
       "      <td>27</td>\n",
       "    </tr>\n",
       "    <tr>\n",
       "      <th>DC</th>\n",
       "      <td>3</td>\n",
       "      <td>0</td>\n",
       "      <td>0</td>\n",
       "      <td>11</td>\n",
       "      <td>1</td>\n",
       "      <td>3</td>\n",
       "      <td>2</td>\n",
       "      <td>4</td>\n",
       "      <td>3</td>\n",
       "      <td>27</td>\n",
       "    </tr>\n",
       "    <tr>\n",
       "      <th>GT</th>\n",
       "      <td>3</td>\n",
       "      <td>0</td>\n",
       "      <td>1</td>\n",
       "      <td>11</td>\n",
       "      <td>3</td>\n",
       "      <td>1</td>\n",
       "      <td>1</td>\n",
       "      <td>2</td>\n",
       "      <td>4</td>\n",
       "      <td>26</td>\n",
       "    </tr>\n",
       "    <tr>\n",
       "      <th>KKR</th>\n",
       "      <td>6</td>\n",
       "      <td>0</td>\n",
       "      <td>0</td>\n",
       "      <td>9</td>\n",
       "      <td>1</td>\n",
       "      <td>2</td>\n",
       "      <td>3</td>\n",
       "      <td>1</td>\n",
       "      <td>3</td>\n",
       "      <td>25</td>\n",
       "    </tr>\n",
       "    <tr>\n",
       "      <th>LSG</th>\n",
       "      <td>5</td>\n",
       "      <td>1</td>\n",
       "      <td>2</td>\n",
       "      <td>12</td>\n",
       "      <td>2</td>\n",
       "      <td>0</td>\n",
       "      <td>1</td>\n",
       "      <td>0</td>\n",
       "      <td>3</td>\n",
       "      <td>26</td>\n",
       "    </tr>\n",
       "    <tr>\n",
       "      <th>MI</th>\n",
       "      <td>1</td>\n",
       "      <td>1</td>\n",
       "      <td>3</td>\n",
       "      <td>14</td>\n",
       "      <td>1</td>\n",
       "      <td>2</td>\n",
       "      <td>0</td>\n",
       "      <td>2</td>\n",
       "      <td>3</td>\n",
       "      <td>27</td>\n",
       "    </tr>\n",
       "    <tr>\n",
       "      <th>PBKS</th>\n",
       "      <td>4</td>\n",
       "      <td>2</td>\n",
       "      <td>3</td>\n",
       "      <td>8</td>\n",
       "      <td>0</td>\n",
       "      <td>1</td>\n",
       "      <td>1</td>\n",
       "      <td>2</td>\n",
       "      <td>3</td>\n",
       "      <td>24</td>\n",
       "    </tr>\n",
       "    <tr>\n",
       "      <th>RCB</th>\n",
       "      <td>5</td>\n",
       "      <td>1</td>\n",
       "      <td>4</td>\n",
       "      <td>11</td>\n",
       "      <td>2</td>\n",
       "      <td>1</td>\n",
       "      <td>0</td>\n",
       "      <td>3</td>\n",
       "      <td>2</td>\n",
       "      <td>29</td>\n",
       "    </tr>\n",
       "    <tr>\n",
       "      <th>RR</th>\n",
       "      <td>3</td>\n",
       "      <td>0</td>\n",
       "      <td>0</td>\n",
       "      <td>12</td>\n",
       "      <td>2</td>\n",
       "      <td>0</td>\n",
       "      <td>1</td>\n",
       "      <td>4</td>\n",
       "      <td>4</td>\n",
       "      <td>26</td>\n",
       "    </tr>\n",
       "    <tr>\n",
       "      <th>SRH</th>\n",
       "      <td>4</td>\n",
       "      <td>4</td>\n",
       "      <td>1</td>\n",
       "      <td>9</td>\n",
       "      <td>2</td>\n",
       "      <td>0</td>\n",
       "      <td>1</td>\n",
       "      <td>1</td>\n",
       "      <td>3</td>\n",
       "      <td>25</td>\n",
       "    </tr>\n",
       "    <tr>\n",
       "      <th>All</th>\n",
       "      <td>39</td>\n",
       "      <td>11</td>\n",
       "      <td>15</td>\n",
       "      <td>107</td>\n",
       "      <td>18</td>\n",
       "      <td>11</td>\n",
       "      <td>10</td>\n",
       "      <td>21</td>\n",
       "      <td>30</td>\n",
       "      <td>262</td>\n",
       "    </tr>\n",
       "  </tbody>\n",
       "</table>\n",
       "</div>"
      ],
      "text/plain": [
       "Role  Allrounder  Batter  Batting Allrounder  Bowler  Bowling Allrounder  \\\n",
       "Team                                                                       \n",
       "CSK            5       2                   1      10                   4   \n",
       "DC             3       0                   0      11                   1   \n",
       "GT             3       0                   1      11                   3   \n",
       "KKR            6       0                   0       9                   1   \n",
       "LSG            5       1                   2      12                   2   \n",
       "MI             1       1                   3      14                   1   \n",
       "PBKS           4       2                   3       8                   0   \n",
       "RCB            5       1                   4      11                   2   \n",
       "RR             3       0                   0      12                   2   \n",
       "SRH            4       4                   1       9                   2   \n",
       "All           39      11                  15     107                  18   \n",
       "\n",
       "Role  Middle order Batter  Opening Batter  Top order Batter  \\\n",
       "Team                                                          \n",
       "CSK                     1               0                 2   \n",
       "DC                      3               2                 4   \n",
       "GT                      1               1                 2   \n",
       "KKR                     2               3                 1   \n",
       "LSG                     0               1                 0   \n",
       "MI                      2               0                 2   \n",
       "PBKS                    1               1                 2   \n",
       "RCB                     1               0                 3   \n",
       "RR                      0               1                 4   \n",
       "SRH                     0               1                 1   \n",
       "All                    11              10                21   \n",
       "\n",
       "Role  Wicketkeeper Batter  All  \n",
       "Team                            \n",
       "CSK                     2   27  \n",
       "DC                      3   27  \n",
       "GT                      4   26  \n",
       "KKR                     3   25  \n",
       "LSG                     3   26  \n",
       "MI                      3   27  \n",
       "PBKS                    3   24  \n",
       "RCB                     2   29  \n",
       "RR                      4   26  \n",
       "SRH                     3   25  \n",
       "All                    30  262  "
      ]
     },
     "execution_count": 3,
     "metadata": {},
     "output_type": "execute_result"
    }
   ],
   "source": [
    "# First, let's examine a frequency table of player roles within teams.\n",
    "frequency_table = player_data.pivot_table(values='Name', index=['Team'], columns=['Role'], aggfunc=len, fill_value=0, \n",
    "                                          margins=True)\n",
    "frequency_table"
   ]
  },
  {
   "cell_type": "markdown",
   "id": "deb772fb",
   "metadata": {},
   "source": [
    "From the frequency table, it is evident that teams do not follow the same distribution of players across player roles.\n",
    "Now, let's take a look at a stacked bar chart to gain a better understanding."
   ]
  },
  {
   "cell_type": "code",
   "execution_count": 4,
   "id": "fe2dd487",
   "metadata": {},
   "outputs": [],
   "source": [
    "playing_positions = player_data.groupby([\"Team\", \"Role\"]).size().unstack()\n",
    "# Choose color palette for chart\n",
    "num_categories = len(playing_positions.columns)\n",
    "colors = sns.color_palette('Set3', num_categories)"
   ]
  },
  {
   "cell_type": "code",
   "execution_count": 5,
   "id": "bfdc17c1",
   "metadata": {},
   "outputs": [
    {
     "data": {
      "image/png": "[encoded data removed]",
      "text/plain": [
       "<Figure size 432x288 with 1 Axes>"
      ]
     },
     "metadata": {
      "needs_background": "light"
     },
     "output_type": "display_data"
    }
   ],
   "source": [
    "# Plot the graph\n",
    "ax = playing_positions.plot(kind=\"bar\", stacked=True, color=colors, edgecolor=\"black\")\n",
    "ax.set_xlabel(\"Team\")\n",
    "ax.set_ylabel(\"Number of players\")\n",
    "ax.set_title(\"Player positions across all teams\")\n",
    "ax.legend(loc=\"center left\", bbox_to_anchor=(1.0, 0.5), title=\"Positions\")\n",
    "plt.tight_layout()\n",
    "plt.show()"
   ]
  },
  {
   "cell_type": "markdown",
   "id": "3554d3df",
   "metadata": {},
   "source": [
    "#### Conclusion for Question-1\n",
    "It appears that there is no common structure for player positions among teams. Each team seems to have a unique arrangement based on their individual circumstances. One possible reason for this variation could be the presence of star players in different positions. For example, if a team has two exceptional bowlers, they may be less inclined to include additional backup bowlers in their team. In addition to the influence of star players, it's worth noting that coaches sometimes exhibit a preference for certain player positions as well. They may have a strategic or tactical inclination towards emphasizing specific roles within the team composition. This further contributes to the diversity and variation in player positions across different teams."
   ]
  },
  {
   "cell_type": "markdown",
   "id": "4397d462",
   "metadata": {},
   "source": [
    "\n",
    "## Data Analysis Question - 2\n",
    "\n",
    "Powerplay. A important part of modern fast paced cricket. So, what is powerplay exactly? Well, based on wikipedia entry: In a powerplay, restrictions are applied on the fielding team, with only two fielders allowed outside the 30-yard circle for a set number of overs. In 20 overs match, first six overs are powerplay overs. It is good opportunity for batters to set tone for the inning. My question is does teams who utilises powerplay more efficiently wins the match? I would like to know correlation between a team's performance in the power play and their overall match outcomes."
   ]
  },
  {
   "cell_type": "markdown",
   "id": "827ae0e1",
   "metadata": {},
   "source": [
    "#### Answer - 2"
   ]
  },
  {
   "cell_type": "code",
   "execution_count": 6,
   "id": "874f9abf",
   "metadata": {},
   "outputs": [],
   "source": [
    "# Load the dataset from relational database\n",
    "conn = sqlite3.connect('database/ipl.db')\n",
    "matches_data = pd.read_sql_query(\"SELECT * FROM matches\", conn)\n",
    "conn.close()"
   ]
  },
  {
   "cell_type": "code",
   "execution_count": 7,
   "id": "5e6ebb75",
   "metadata": {},
   "outputs": [],
   "source": [
    "# Create a list of teams which were ahead compared to their opponent in each match\n",
    "leading_teams = []\n",
    "for index, row in matches_data.iterrows():\n",
    "    inning1_pp_score = int(row[\"Powerplay score(i1)\"].split(\"/\")[0])\n",
    "    inning2_pp_score = int(row[\"Powerplay score(i2)\"].split(\"/\")[0])\n",
    "    run_difference = inning1_pp_score - inning2_pp_score\n",
    "    home_team, away_team = row[\"Home Team\"], row[\"Away Team\"]\n",
    "    toss_winner, toss_decision = row[\"Toss Win\"], row[\"Field First\"]\n",
    "    if toss_decision == 1:\n",
    "        inning2_team = toss_winner\n",
    "        if toss_winner == home_team:\n",
    "            inning1_team = away_team\n",
    "        else:\n",
    "            inning1_team = home_team\n",
    "    else:\n",
    "        inning1_team = toss_winner\n",
    "        if toss_winner == home_team:\n",
    "            inning2_team = away_team\n",
    "        else:\n",
    "            inning2_team = home_team\n",
    "    # In case of two teams were at same runs at end of powerplay, I will give preference to team that batted first\n",
    "    if run_difference >= 0:\n",
    "        leading_teams.append(inning1_team)\n",
    "    else:\n",
    "        leading_teams.append(inning2_team)"
   ]
  },
  {
   "cell_type": "code",
   "execution_count": 8,
   "id": "7b83db42",
   "metadata": {},
   "outputs": [
    {
     "name": "stdout",
     "output_type": "stream",
     "text": [
      "The percentage of teams that converted their power play runs lead into victory is: 67.12%\n"
     ]
    }
   ],
   "source": [
    "# Now let's get the winning team data series\n",
    "winning_team = matches_data[\"Winner\"].tolist()\n",
    "\n",
    "# Now let's compare them to find out how many teams were able to convert powerplay advantage\n",
    "team_with_powerplay_lead_won = 0\n",
    "for index in range(len(winning_team)):\n",
    "    if winning_team[index] == leading_teams[index]:\n",
    "        team_with_powerplay_lead_won += 1\n",
    "    else:\n",
    "        continue\n",
    "        \n",
    "conversion_percentage = (team_with_powerplay_lead_won / len(winning_team)) * 100\n",
    "print(f\"The percentage of teams that converted their power play runs lead into victory is: {conversion_percentage:.2f}%\")"
   ]
  },
  {
   "cell_type": "markdown",
   "id": "a48fcd34",
   "metadata": {},
   "source": [
    "#### Conclusion for Question-2\n",
    "With a percentage as high as <b>68.49%</b>, it indicates that teams that were in the lead during the powerplay phase tended to win the match more often than not. This suggests that having a strong performance during the powerplay can provide a significant advantage in achieving a positive outcome in the match.However, it is important to note that correlation does not necessarily imply causation. While a high conversion percentage indicates a strong association between powerplay lead and match victory, it does not guarantee that having the powerplay lead always guarantees a win."
   ]
  },
  {
   "cell_type": "markdown",
   "id": "3d48e6f1",
   "metadata": {},
   "source": [
    "## Data Analysis Question - 3"
   ]
  },
  {
   "cell_type": "markdown",
   "id": "8aefbb4d",
   "metadata": {},
   "source": [
    "<b>Toss</b>. Considered an important aspect of cricket, is often believed to have the potential to influence match outcomes. In light of this, an intriguing question arises: How frequently have teams managed to translate their toss victory into a subsequent match win? Moreover, this prompts us to delve deeper and scrutinize the true significance of the toss result. Is it truly a decisive factor in determining the overall outcome of cricket matches?\n",
    "\n",
    "#### Answer-3"
   ]
  },
  {
   "cell_type": "code",
   "execution_count": 9,
   "id": "d85adc80",
   "metadata": {},
   "outputs": [
    {
     "name": "stdout",
     "output_type": "stream",
     "text": [
      "The percentage of teams that converted their toss win into victory is: 45.21%\n"
     ]
    }
   ],
   "source": [
    "# We have already loaded match dataset\n",
    "toss_and_match_win = matches_data[matches_data[\"Winner\"] == matches_data[\"Toss Win\"]].shape[0]\n",
    "total_matches = matches_data.shape[0]\n",
    "percentage_win = toss_and_match_win/total_matches * 100\n",
    "print(f\"The percentage of teams that converted their toss win into victory is: {percentage_win:.2f}%\")"
   ]
  },
  {
   "cell_type": "markdown",
   "id": "4053dbe5",
   "metadata": {},
   "source": [
    "#### Conclusion for Question-3\n",
    "\n",
    "Based on the analysis, it was found that teams were able to convert their toss win into a match win in approximately <b>45.21%</b> of the cases. This indicates that while winning the toss can provide an advantage, it does not guarantee a subsequent victory. The outcome of the match seems to depend on various other factors beyond the toss result. Therefore, although the toss holds some importance, it is not the sole determinant of match outcomes in cricket."
   ]
  },
  {
   "cell_type": "markdown",
   "id": "a223c87e",
   "metadata": {},
   "source": [
    "## Data Analysis Question - 4"
   ]
  },
  {
   "cell_type": "markdown",
   "id": "0c98ea25",
   "metadata": {},
   "source": [
    "In the game of cricket, a variety of methods exist for a batsman to be dismissed. These include being bowled, being given out leg before wicket (lbw), being caught by a fielder, getting out by hitting the wicket, being run-out, or getting stumped. To better understand the dynamics of dismissals, it is essential to analyze the frequency of each type of dismissal. So what does this frequency look like in IPL 2023?"
   ]
  },
  {
   "cell_type": "markdown",
   "id": "2b41f3da",
   "metadata": {},
   "source": [
    "#### Answer - 4"
   ]
  },
  {
   "cell_type": "code",
   "execution_count": 11,
   "id": "47d930a2",
   "metadata": {},
   "outputs": [],
   "source": [
    "# We need batting performance dataset for this \n",
    "conn = sqlite3.connect('database/ipl.db')\n",
    "batting_performance_data = pd.read_sql_query(\"SELECT * FROM `Batting Performance`\", conn)\n",
    "conn.close()"
   ]
  },
  {
   "cell_type": "code",
   "execution_count": 14,
   "id": "6ecee4ba",
   "metadata": {},
   "outputs": [
    {
     "name": "stdout",
     "output_type": "stream",
     "text": [
      "catch          621\n",
      "not out        264\n",
      "bowled         143\n",
      "lbw             65\n",
      "run-out         55\n",
      "stumped         20\n",
      "retired out      4\n",
      "hit-wicket       1\n",
      "Name: Out type, dtype: int64\n"
     ]
    }
   ],
   "source": [
    "out_type_frequency = batting_performance_data['Out type'].value_counts()\n",
    "print(out_type_frequency)"
   ]
  },
  {
   "cell_type": "markdown",
   "id": "365d389f",
   "metadata": {},
   "source": [
    "#### Conclusion for Question - 4\n",
    "By examining the distribution of dismissals, we can identify the most prevalent mode through which batsmen are dismissed, shedding light on the game's strategic and statistical aspects. The <b>most common mode of dismissal observed</b> in the dataset is being <b>caught by a fielder</b>, with a frequency of 621 occurrences. This indicates that catches play a significant role in removing batsmen from the field. As they say 'catches win matches'. The second-highest frequency is 'not out' with 264 instances. This suggests that a considerable number of batsmen were able to successfully avoid being dismissed during their innings. The less frequent modes of dismissal are retired out (4 occurrences) and hit-wicket (1 occurrence), indicating their relative rarity in the dataset."
   ]
  },
  {
   "cell_type": "code",
   "execution_count": null,
   "id": "419d3339",
   "metadata": {},
   "outputs": [],
   "source": []
  }
 ],
 "metadata": {
  "kernelspec": {
   "display_name": "Python 3 (ipykernel)",
   "language": "python",
   "name": "python3"
  },
  "language_info": {
   "codemirror_mode": {
    "name": "ipython",
    "version": 3
   },
   "file_extension": ".py",
   "mimetype": "text/x-python",
   "name": "python",
   "nbconvert_exporter": "python",
   "pygments_lexer": "ipython3",
   "version": "3.9.7"
  }
 },
 "nbformat": 4,
 "nbformat_minor": 5
}
